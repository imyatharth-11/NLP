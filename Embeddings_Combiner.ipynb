{
  "nbformat": 4,
  "nbformat_minor": 0,
  "metadata": {
    "colab": {
      "provenance": []
    },
    "kernelspec": {
      "name": "python3",
      "display_name": "Python 3"
    },
    "language_info": {
      "name": "python"
    }
  },
  "cells": [
    {
      "cell_type": "code",
      "execution_count": 10,
      "metadata": {
        "colab": {
          "base_uri": "https://localhost:8080/"
        },
        "id": "fUj-larjHXU6",
        "outputId": "b9315ffd-25ff-4ae9-d709-4620e1df938a"
      },
      "outputs": [
        {
          "output_type": "stream",
          "name": "stdout",
          "text": [
            "Mounted at /content/drive\n"
          ]
        }
      ],
      "source": [
        "# connect drive\n",
        "from google.colab import drive\n",
        "drive.flush_and_unmount()\n",
        "drive.mount('/content/drive')"
      ]
    },
    {
      "cell_type": "code",
      "source": [
        "path_1 = '/content/drive/MyDrive/NLP/NLP/NLP_Embeddings/NEW_coupled_embeddings_from_0_499.pkl'\n",
        "path_2 = '/content/drive/MyDrive/NLP/NLP/NLP_Embeddings/NEW_coupled_embeddings_from_500_999.pkl'\n",
        "path_3 = '/content/drive/MyDrive/NLP/NLP/NLP_Embeddings/NEW_coupled_embeddings_from_1000_1499.pkl'\n",
        "path_4 = '/content/drive/MyDrive/NLP/NLP/NLP_Embeddings/NEW_coupled_embeddings_from_1500_1999.pkl'\n",
        "path_5 = '/content/drive/MyDrive/NLP/NLP/NLP_Embeddings/NEW_coupled_embeddings_from_2000_2499.pkl'\n",
        "path_6 = '/content/drive/MyDrive/NLP/NLP/NLP_Embeddings/NEW_coupled_embeddings_from_2500_2999.pkl'\n",
        "path_7 = '/content/drive/MyDrive/NLP/NLP/NLP_Embeddings/NEW_coupled_embeddings_from_3000_3499.pkl'\n",
        "path_8 = '/content/drive/MyDrive/NLP/NLP/NLP_Embeddings/NEW_coupled_embeddings_from_3500_3999.pkl'\n",
        "path_9 = '/content/drive/MyDrive/NLP/NLP/NLP_Embeddings/NEW_coupled_embeddings_from_4000_4499.pkl'\n",
        "path_10 = '/content/drive/MyDrive/NLP/NLP/NLP_Embeddings/NEW_coupled_embeddings_from_4500_4999.pkl'\n",
        "path_11 = '/content/drive/MyDrive/NLP/NLP/NLP_Embeddings/NEW_coupled_embeddings_from_5000_5499.pkl'\n",
        "path_12 = '/content/drive/MyDrive/NLP/NLP/NLP_Embeddings/NEW_coupled_embeddings_from_5500_5999.pkl'\n",
        "path_13 = '/content/drive/MyDrive/NLP/NLP/NLP_Embeddings/NEW_coupled_embeddings_from_6000_6499.pkl'\n",
        "path_14 = '/content/drive/MyDrive/NLP/NLP/NLP_Embeddings/NEW_coupled_embeddings_from_6500_6999.pkl'\n",
        "path_15 = '/content/drive/MyDrive/NLP/NLP/NLP_Embeddings/NEW_coupled_embeddings_from_7000_7499.pkl'\n",
        "path_16 = '/content/drive/MyDrive/NLP/NLP/NLP_Embeddings/NEW_coupled_embeddings_from_7500_7999.pkl'\n",
        "path_17 = '/content/drive/MyDrive/NLP/NLP/NLP_Embeddings/NEW_coupled_embeddings_from_8000_8499.pkl'\n",
        "path_18 = '/content/drive/MyDrive/NLP/NLP/NLP_Embeddings/NEW_coupled_embeddings_from_8500_8999.pkl'\n",
        "path_19 = '/content/drive/MyDrive/NLP/NLP/NLP_Embeddings/NEW_coupled_embeddings_from_9000_9499.pkl'\n",
        "path_20 = '/content/drive/MyDrive/NLP/NLP/NLP_Embeddings/NEW_coupled_embeddings_from_9500_9999.pkl'"
      ],
      "metadata": {
        "id": "kcSfkByNHo3k"
      },
      "execution_count": 4,
      "outputs": []
    },
    {
      "cell_type": "code",
      "source": [
        "import pickle\n",
        "\n",
        "def load_variable(pkl_variable):\n",
        "  # Open the file in binary mode\n",
        "  with open(pkl_variable, 'rb') as file:\n",
        "    myvar = pickle.load(file)\n",
        "  return myvar\n",
        "\n",
        "def save_variable(to_be_saved, file_name):\n",
        "    with open(file_name, 'wb') as file:\n",
        "        pickle.dump(to_be_saved, file)"
      ],
      "metadata": {
        "id": "ClvBHBQ4IjGS"
      },
      "execution_count": 5,
      "outputs": []
    },
    {
      "cell_type": "code",
      "source": [
        "paths = [path_1, path_2, path_3, path_4, path_5, path_6, path_7, path_8, path_9, path_10, path_11, path_12, path_13, path_14, path_15, path_16, path_17, path_18, path_19, path_20]\n",
        "final_data = []\n",
        "for path in paths:\n",
        "  data = load_variable(path)\n",
        "  final_data.extend(data)"
      ],
      "metadata": {
        "id": "LZqw3NluIprJ"
      },
      "execution_count": 6,
      "outputs": []
    },
    {
      "cell_type": "code",
      "source": [
        "len(final_data)"
      ],
      "metadata": {
        "colab": {
          "base_uri": "https://localhost:8080/"
        },
        "id": "1weDKfqDKEn9",
        "outputId": "80d15ef0-5dea-4459-d209-5b16e809e540"
      },
      "execution_count": 7,
      "outputs": [
        {
          "output_type": "execute_result",
          "data": {
            "text/plain": [
              "10000"
            ]
          },
          "metadata": {},
          "execution_count": 7
        }
      ]
    },
    {
      "cell_type": "code",
      "source": [
        "emb_1 = []\n",
        "emb_2 = []\n",
        "\n",
        "for i in range(len(final_data)):\n",
        "  emb_1.append(final_data[i][0][0])\n",
        "  emb_2.append(final_data[i][1][0])"
      ],
      "metadata": {
        "id": "WhusMzfqK8Jl"
      },
      "execution_count": 8,
      "outputs": []
    },
    {
      "cell_type": "code",
      "source": [
        "save_variable(emb_1, '/content/drive/MyDrive/NLP/NLP/NLP_Embeddings/NEW_COMBINED_resume_text_embedding.pkl')\n",
        "save_variable(emb_2, '/content/drive/MyDrive/NLP/NLP/NLP_Embeddings/NEW_COMBINED_job_description_embedding.pkl')"
      ],
      "metadata": {
        "id": "q-bwgfTuL4hP"
      },
      "execution_count": 11,
      "outputs": []
    },
    {
      "cell_type": "code",
      "source": [
        "len(emb_1), len(emb_2)"
      ],
      "metadata": {
        "colab": {
          "base_uri": "https://localhost:8080/"
        },
        "id": "U7Dw8Gh7MSA_",
        "outputId": "cc3c5ee9-ed87-422f-c3ad-9afd9e50d3de"
      },
      "execution_count": null,
      "outputs": [
        {
          "output_type": "execute_result",
          "data": {
            "text/plain": [
              "(10000, 10000)"
            ]
          },
          "metadata": {},
          "execution_count": 33
        }
      ]
    }
  ]
}