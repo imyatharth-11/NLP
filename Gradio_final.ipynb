{
  "cells": [
    {
      "cell_type": "code",
      "execution_count": 3,
      "metadata": {
        "colab": {
          "base_uri": "https://localhost:8080/"
        },
        "id": "AIgb_PlWISXp",
        "outputId": "448de626-0bb2-4ffe-880e-2d990f46892e"
      },
      "outputs": [
        {
          "name": "stdout",
          "output_type": "stream",
          "text": [
            "Collecting gradio\n",
            "  Downloading gradio-5.25.2-py3-none-any.whl.metadata (16 kB)\n",
            "Collecting PyMuPDF\n",
            "  Downloading pymupdf-1.25.5-cp39-abi3-manylinux2014_x86_64.manylinux_2_17_x86_64.whl.metadata (3.4 kB)\n",
            "Collecting aiofiles<25.0,>=22.0 (from gradio)\n",
            "  Downloading aiofiles-24.1.0-py3-none-any.whl.metadata (10 kB)\n",
            "Requirement already satisfied: anyio<5.0,>=3.0 in /usr/local/lib/python3.11/dist-packages (from gradio) (4.9.0)\n",
            "Collecting fastapi<1.0,>=0.115.2 (from gradio)\n",
            "  Downloading fastapi-0.115.12-py3-none-any.whl.metadata (27 kB)\n",
            "Collecting ffmpy (from gradio)\n",
            "  Downloading ffmpy-0.5.0-py3-none-any.whl.metadata (3.0 kB)\n",
            "Collecting gradio-client==1.8.0 (from gradio)\n",
            "  Downloading gradio_client-1.8.0-py3-none-any.whl.metadata (7.1 kB)\n",
            "Collecting groovy~=0.1 (from gradio)\n",
            "  Downloading groovy-0.1.2-py3-none-any.whl.metadata (6.1 kB)\n",
            "Requirement already satisfied: httpx>=0.24.1 in /usr/local/lib/python3.11/dist-packages (from gradio) (0.28.1)\n",
            "Requirement already satisfied: huggingface-hub>=0.28.1 in /usr/local/lib/python3.11/dist-packages (from gradio) (0.30.2)\n",
            "Requirement already satisfied: jinja2<4.0 in /usr/local/lib/python3.11/dist-packages (from gradio) (3.1.6)\n",
            "Requirement already satisfied: markupsafe<4.0,>=2.0 in /usr/local/lib/python3.11/dist-packages (from gradio) (3.0.2)\n",
            "Requirement already satisfied: numpy<3.0,>=1.0 in /usr/local/lib/python3.11/dist-packages (from gradio) (2.0.2)\n",
            "Requirement already satisfied: orjson~=3.0 in /usr/local/lib/python3.11/dist-packages (from gradio) (3.10.16)\n",
            "Requirement already satisfied: packaging in /usr/local/lib/python3.11/dist-packages (from gradio) (24.2)\n",
            "Requirement already satisfied: pandas<3.0,>=1.0 in /usr/local/lib/python3.11/dist-packages (from gradio) (2.2.2)\n",
            "Requirement already satisfied: pillow<12.0,>=8.0 in /usr/local/lib/python3.11/dist-packages (from gradio) (11.1.0)\n",
            "Requirement already satisfied: pydantic<2.12,>=2.0 in /usr/local/lib/python3.11/dist-packages (from gradio) (2.11.3)\n",
            "Collecting pydub (from gradio)\n",
            "  Downloading pydub-0.25.1-py2.py3-none-any.whl.metadata (1.4 kB)\n",
            "Collecting python-multipart>=0.0.18 (from gradio)\n",
            "  Downloading python_multipart-0.0.20-py3-none-any.whl.metadata (1.8 kB)\n",
            "Requirement already satisfied: pyyaml<7.0,>=5.0 in /usr/local/lib/python3.11/dist-packages (from gradio) (6.0.2)\n",
            "Collecting ruff>=0.9.3 (from gradio)\n",
            "  Downloading ruff-0.11.6-py3-none-manylinux_2_17_x86_64.manylinux2014_x86_64.whl.metadata (25 kB)\n",
            "Collecting safehttpx<0.2.0,>=0.1.6 (from gradio)\n",
            "  Downloading safehttpx-0.1.6-py3-none-any.whl.metadata (4.2 kB)\n",
            "Collecting semantic-version~=2.0 (from gradio)\n",
            "  Downloading semantic_version-2.10.0-py2.py3-none-any.whl.metadata (9.7 kB)\n",
            "Collecting starlette<1.0,>=0.40.0 (from gradio)\n",
            "  Downloading starlette-0.46.2-py3-none-any.whl.metadata (6.2 kB)\n",
            "Collecting tomlkit<0.14.0,>=0.12.0 (from gradio)\n",
            "  Downloading tomlkit-0.13.2-py3-none-any.whl.metadata (2.7 kB)\n",
            "Requirement already satisfied: typer<1.0,>=0.12 in /usr/local/lib/python3.11/dist-packages (from gradio) (0.15.2)\n",
            "Requirement already satisfied: typing-extensions~=4.0 in /usr/local/lib/python3.11/dist-packages (from gradio) (4.13.1)\n",
            "Collecting uvicorn>=0.14.0 (from gradio)\n",
            "  Downloading uvicorn-0.34.1-py3-none-any.whl.metadata (6.5 kB)\n",
            "Requirement already satisfied: fsspec in /usr/local/lib/python3.11/dist-packages (from gradio-client==1.8.0->gradio) (2025.3.2)\n",
            "Requirement already satisfied: websockets<16.0,>=10.0 in /usr/local/lib/python3.11/dist-packages (from gradio-client==1.8.0->gradio) (15.0.1)\n",
            "Requirement already satisfied: idna>=2.8 in /usr/local/lib/python3.11/dist-packages (from anyio<5.0,>=3.0->gradio) (3.10)\n",
            "Requirement already satisfied: sniffio>=1.1 in /usr/local/lib/python3.11/dist-packages (from anyio<5.0,>=3.0->gradio) (1.3.1)\n",
            "Requirement already satisfied: certifi in /usr/local/lib/python3.11/dist-packages (from httpx>=0.24.1->gradio) (2025.1.31)\n",
            "Requirement already satisfied: httpcore==1.* in /usr/local/lib/python3.11/dist-packages (from httpx>=0.24.1->gradio) (1.0.7)\n",
            "Requirement already satisfied: h11<0.15,>=0.13 in /usr/local/lib/python3.11/dist-packages (from httpcore==1.*->httpx>=0.24.1->gradio) (0.14.0)\n",
            "Requirement already satisfied: filelock in /usr/local/lib/python3.11/dist-packages (from huggingface-hub>=0.28.1->gradio) (3.18.0)\n",
            "Requirement already satisfied: requests in /usr/local/lib/python3.11/dist-packages (from huggingface-hub>=0.28.1->gradio) (2.32.3)\n",
            "Requirement already satisfied: tqdm>=4.42.1 in /usr/local/lib/python3.11/dist-packages (from huggingface-hub>=0.28.1->gradio) (4.67.1)\n",
            "Requirement already satisfied: python-dateutil>=2.8.2 in /usr/local/lib/python3.11/dist-packages (from pandas<3.0,>=1.0->gradio) (2.8.2)\n",
            "Requirement already satisfied: pytz>=2020.1 in /usr/local/lib/python3.11/dist-packages (from pandas<3.0,>=1.0->gradio) (2025.2)\n",
            "Requirement already satisfied: tzdata>=2022.7 in /usr/local/lib/python3.11/dist-packages (from pandas<3.0,>=1.0->gradio) (2025.2)\n",
            "Requirement already satisfied: annotated-types>=0.6.0 in /usr/local/lib/python3.11/dist-packages (from pydantic<2.12,>=2.0->gradio) (0.7.0)\n",
            "Requirement already satisfied: pydantic-core==2.33.1 in /usr/local/lib/python3.11/dist-packages (from pydantic<2.12,>=2.0->gradio) (2.33.1)\n",
            "Requirement already satisfied: typing-inspection>=0.4.0 in /usr/local/lib/python3.11/dist-packages (from pydantic<2.12,>=2.0->gradio) (0.4.0)\n",
            "Requirement already satisfied: click>=8.0.0 in /usr/local/lib/python3.11/dist-packages (from typer<1.0,>=0.12->gradio) (8.1.8)\n",
            "Requirement already satisfied: shellingham>=1.3.0 in /usr/local/lib/python3.11/dist-packages (from typer<1.0,>=0.12->gradio) (1.5.4)\n",
            "Requirement already satisfied: rich>=10.11.0 in /usr/local/lib/python3.11/dist-packages (from typer<1.0,>=0.12->gradio) (13.9.4)\n",
            "Requirement already satisfied: six>=1.5 in /usr/local/lib/python3.11/dist-packages (from python-dateutil>=2.8.2->pandas<3.0,>=1.0->gradio) (1.17.0)\n",
            "Requirement already satisfied: markdown-it-py>=2.2.0 in /usr/local/lib/python3.11/dist-packages (from rich>=10.11.0->typer<1.0,>=0.12->gradio) (3.0.0)\n",
            "Requirement already satisfied: pygments<3.0.0,>=2.13.0 in /usr/local/lib/python3.11/dist-packages (from rich>=10.11.0->typer<1.0,>=0.12->gradio) (2.18.0)\n",
            "Requirement already satisfied: charset-normalizer<4,>=2 in /usr/local/lib/python3.11/dist-packages (from requests->huggingface-hub>=0.28.1->gradio) (3.4.1)\n",
            "Requirement already satisfied: urllib3<3,>=1.21.1 in /usr/local/lib/python3.11/dist-packages (from requests->huggingface-hub>=0.28.1->gradio) (2.3.0)\n",
            "Requirement already satisfied: mdurl~=0.1 in /usr/local/lib/python3.11/dist-packages (from markdown-it-py>=2.2.0->rich>=10.11.0->typer<1.0,>=0.12->gradio) (0.1.2)\n",
            "Downloading gradio-5.25.2-py3-none-any.whl (46.9 MB)\n",
            "\u001b[2K   \u001b[90m━━━━━━━━━━━━━━━━━━━━━━━━━━━━━━━━━━━━━━━━\u001b[0m \u001b[32m46.9/46.9 MB\u001b[0m \u001b[31m17.8 MB/s\u001b[0m eta \u001b[36m0:00:00\u001b[0m\n",
            "\u001b[?25hDownloading gradio_client-1.8.0-py3-none-any.whl (322 kB)\n",
            "\u001b[2K   \u001b[90m━━━━━━━━━━━━━━━━━━━━━━━━━━━━━━━━━━━━━━━━\u001b[0m \u001b[32m322.2/322.2 kB\u001b[0m \u001b[31m19.9 MB/s\u001b[0m eta \u001b[36m0:00:00\u001b[0m\n",
            "\u001b[?25hDownloading pymupdf-1.25.5-cp39-abi3-manylinux2014_x86_64.manylinux_2_17_x86_64.whl (20.0 MB)\n",
            "\u001b[2K   \u001b[90m━━━━━━━━━━━━━━━━━━━━━━━━━━━━━━━━━━━━━━━━\u001b[0m \u001b[32m20.0/20.0 MB\u001b[0m \u001b[31m67.4 MB/s\u001b[0m eta \u001b[36m0:00:00\u001b[0m\n",
            "\u001b[?25hDownloading aiofiles-24.1.0-py3-none-any.whl (15 kB)\n",
            "Downloading fastapi-0.115.12-py3-none-any.whl (95 kB)\n",
            "\u001b[2K   \u001b[90m━━━━━━━━━━━━━━━━━━━━━━━━━━━━━━━━━━━━━━━━\u001b[0m \u001b[32m95.2/95.2 kB\u001b[0m \u001b[31m3.7 MB/s\u001b[0m eta \u001b[36m0:00:00\u001b[0m\n",
            "\u001b[?25hDownloading groovy-0.1.2-py3-none-any.whl (14 kB)\n",
            "Downloading python_multipart-0.0.20-py3-none-any.whl (24 kB)\n",
            "Downloading ruff-0.11.6-py3-none-manylinux_2_17_x86_64.manylinux2014_x86_64.whl (11.5 MB)\n",
            "\u001b[2K   \u001b[90m━━━━━━━━━━━━━━━━━━━━━━━━━━━━━━━━━━━━━━━━\u001b[0m \u001b[32m11.5/11.5 MB\u001b[0m \u001b[31m76.3 MB/s\u001b[0m eta \u001b[36m0:00:00\u001b[0m\n",
            "\u001b[?25hDownloading safehttpx-0.1.6-py3-none-any.whl (8.7 kB)\n",
            "Downloading semantic_version-2.10.0-py2.py3-none-any.whl (15 kB)\n",
            "Downloading starlette-0.46.2-py3-none-any.whl (72 kB)\n",
            "\u001b[2K   \u001b[90m━━━━━━━━━━━━━━━━━━━━━━━━━━━━━━━━━━━━━━━━\u001b[0m \u001b[32m72.0/72.0 kB\u001b[0m \u001b[31m3.9 MB/s\u001b[0m eta \u001b[36m0:00:00\u001b[0m\n",
            "\u001b[?25hDownloading tomlkit-0.13.2-py3-none-any.whl (37 kB)\n",
            "Downloading uvicorn-0.34.1-py3-none-any.whl (62 kB)\n",
            "\u001b[2K   \u001b[90m━━━━━━━━━━━━━━━━━━━━━━━━━━━━━━━━━━━━━━━━\u001b[0m \u001b[32m62.4/62.4 kB\u001b[0m \u001b[31m3.7 MB/s\u001b[0m eta \u001b[36m0:00:00\u001b[0m\n",
            "\u001b[?25hDownloading ffmpy-0.5.0-py3-none-any.whl (6.0 kB)\n",
            "Downloading pydub-0.25.1-py2.py3-none-any.whl (32 kB)\n",
            "Installing collected packages: pydub, uvicorn, tomlkit, semantic-version, ruff, python-multipart, PyMuPDF, groovy, ffmpy, aiofiles, starlette, safehttpx, gradio-client, fastapi, gradio\n",
            "Successfully installed PyMuPDF-1.25.5 aiofiles-24.1.0 fastapi-0.115.12 ffmpy-0.5.0 gradio-5.25.2 gradio-client-1.8.0 groovy-0.1.2 pydub-0.25.1 python-multipart-0.0.20 ruff-0.11.6 safehttpx-0.1.6 semantic-version-2.10.0 starlette-0.46.2 tomlkit-0.13.2 uvicorn-0.34.1\n"
          ]
        }
      ],
      "source": [
        "pip install gradio PyMuPDF"
      ]
    },
    {
      "cell_type": "code",
      "execution_count": 4,
      "metadata": {
        "colab": {
          "base_uri": "https://localhost:8080/"
        },
        "id": "7WLl_XEJC_7p",
        "outputId": "22ece08a-c895-438d-8aab-82eb0580f9c8"
      },
      "outputs": [
        {
          "name": "stdout",
          "output_type": "stream",
          "text": [
            "Drive not mounted, so nothing to flush and unmount.\n",
            "Mounted at /content/drive\n"
          ]
        }
      ],
      "source": [
        "from google.colab import drive\n",
        "drive.flush_and_unmount()\n",
        "drive.mount('/content/drive')"
      ]
    },
    {
      "cell_type": "code",
      "execution_count": 5,
      "metadata": {
        "id": "iBllNyYIBYE0"
      },
      "outputs": [],
      "source": [
        "# Lemmatizing the text\n",
        "# Importing the required libraries\n",
        "import nltk\n",
        "from nltk.stem import WordNetLemmatizer\n",
        "from nltk.corpus import wordnet\n",
        "from nltk.tokenize import sent_tokenize"
      ]
    },
    {
      "cell_type": "code",
      "execution_count": 6,
      "metadata": {
        "colab": {
          "base_uri": "https://localhost:8080/"
        },
        "id": "v7yZhXkDBYoh",
        "outputId": "fea9717e-b35a-4081-8044-ceb10154c3c5"
      },
      "outputs": [
        {
          "name": "stderr",
          "output_type": "stream",
          "text": [
            "[nltk_data] Downloading package wordnet to /root/nltk_data...\n",
            "[nltk_data] Downloading package omw-1.4 to /root/nltk_data...\n",
            "[nltk_data] Downloading package averaged_perceptron_tagger to\n",
            "[nltk_data]     /root/nltk_data...\n",
            "[nltk_data]   Unzipping taggers/averaged_perceptron_tagger.zip.\n",
            "[nltk_data] Downloading package punkt to /root/nltk_data...\n",
            "[nltk_data]   Unzipping tokenizers/punkt.zip.\n",
            "[nltk_data] Downloading package punkt_tab to /root/nltk_data...\n",
            "[nltk_data]   Unzipping tokenizers/punkt_tab.zip.\n",
            "[nltk_data] Downloading package averaged_perceptron_tagger_eng to\n",
            "[nltk_data]     /root/nltk_data...\n",
            "[nltk_data]   Unzipping taggers/averaged_perceptron_tagger_eng.zip.\n"
          ]
        },
        {
          "data": {
            "text/plain": [
              "True"
            ]
          },
          "execution_count": 6,
          "metadata": {},
          "output_type": "execute_result"
        }
      ],
      "source": [
        "# Download required resources\n",
        "nltk.download('wordnet')                 # WordNet dictionary\n",
        "nltk.download('omw-1.4')                 # Multilingual WordNet support\n",
        "nltk.download('averaged_perceptron_tagger')  # POS tagger\n",
        "nltk.download('punkt')\n",
        "nltk.download('punkt_tab')\n",
        "nltk.download('averaged_perceptron_tagger_eng')"
      ]
    },
    {
      "cell_type": "code",
      "execution_count": 7,
      "metadata": {
        "id": "wBBm2d-ABLL-"
      },
      "outputs": [],
      "source": [
        "def remove_punctuations(sentence):\n",
        "    import re\n",
        "    sentence = re.sub(r'[^\\w\\s]', '', sentence)\n",
        "    return sentence"
      ]
    },
    {
      "cell_type": "code",
      "execution_count": 8,
      "metadata": {
        "id": "qh9cKXPoBFKy"
      },
      "outputs": [],
      "source": [
        "def preprocess(sentence):\n",
        "  sentence = sentence.lower()\n",
        "  sentence = remove_punctuations(sentence)\n",
        "  return sentence"
      ]
    },
    {
      "cell_type": "code",
      "execution_count": null,
      "metadata": {
        "id": "U1jSwRa8Bid9"
      },
      "outputs": [],
      "source": []
    },
    {
      "cell_type": "code",
      "execution_count": 9,
      "metadata": {
        "id": "TNw4EL83BkSm"
      },
      "outputs": [],
      "source": [
        "# When passed a word it will give it's POS using wordnet\n",
        "def get_wordnet_pos(word):\n",
        "    tag = nltk.pos_tag([word])[0][1][0].upper()\n",
        "    tag_dict = {\"J\": wordnet.ADJ,\n",
        "                \"N\": wordnet.NOUN,\n",
        "                \"V\": wordnet.VERB,\n",
        "                \"R\": wordnet.ADV}\n",
        "    return tag_dict.get(tag, wordnet.NOUN)"
      ]
    },
    {
      "cell_type": "code",
      "execution_count": 10,
      "metadata": {
        "id": "ANi6jw3GBUom"
      },
      "outputs": [],
      "source": [
        "# Lemmatizing the sentence\n",
        "def lemmatize_sentence(sentence):\n",
        "    lemmatizer = WordNetLemmatizer()\n",
        "    sentence = preprocess(sentence)\n",
        "    res = []\n",
        "    sen = nltk.sent_tokenize(sentence)\n",
        "    for j in sen:\n",
        "        j = remove_punctuations(j)\n",
        "        words = nltk.word_tokenize(j)\n",
        "        lemmatized = [lemmatizer.lemmatize(w, pos=get_wordnet_pos(w)) for w in words]\n",
        "        res.extend(lemmatized)\n",
        "    return res"
      ]
    },
    {
      "cell_type": "code",
      "execution_count": 14,
      "metadata": {
        "id": "PXXw_rgaChGg"
      },
      "outputs": [],
      "source": [
        "import tensorflow as tf\n",
        "from tensorflow.keras import layers, models"
      ]
    },
    {
      "cell_type": "code",
      "execution_count": null,
      "metadata": {
        "id": "185xafTUCiei"
      },
      "outputs": [],
      "source": [
        "class PositionalEncoding(layers.Layer):\n",
        "    def __init__(self, max_len, d_model):\n",
        "        super().__init__()\n",
        "        pos = tf.range(max_len)[:, tf.newaxis]\n",
        "        i = tf.range(d_model)[tf.newaxis, :]\n",
        "        # Cast 'i' to tf.float32 to match the dtype of tf.pow result\n",
        "        angle_rates = 1 / tf.pow(10000., (2 * (tf.cast(i, tf.float32) // 2)) / tf.cast(d_model, tf.float32))\n",
        "        angle_rads = tf.cast(pos, tf.float32) * angle_rates\n",
        "\n",
        "        sines = tf.math.sin(angle_rads[:, 0::2])\n",
        "        cosines = tf.math.cos(angle_rads[:, 1::2])\n",
        "        self.pos_encoding = tf.concat([sines, cosines], axis=-1)\n",
        "        self.pos_encoding = self.pos_encoding[tf.newaxis, ...]\n",
        "\n",
        "    def call(self, x):\n",
        "        return x + self.pos_encoding[:, :tf.shape(x)[1], :]"
      ]
    },
    {
      "cell_type": "code",
      "execution_count": 15,
      "metadata": {
        "id": "shPOHZxb8dXr"
      },
      "outputs": [],
      "source": [
        "class PositionalEncoding_1(layers.Layer):\n",
        "    def __init__(self, max_len, d_model):\n",
        "        super(PositionalEncoding_1, self).__init__()\n",
        "        pos = tf.range(max_len, dtype=tf.float32)[:, tf.newaxis]\n",
        "        i = tf.range(d_model, dtype=tf.float32)[tf.newaxis, :]\n",
        "\n",
        "        angle_rates = 1 / tf.pow(10000.0, (2 * (i // 2)) / tf.cast(d_model, tf.float32))\n",
        "        angle_rads = pos * angle_rates\n",
        "\n",
        "        # Apply sin to even indices in the array; cos to odd indices\n",
        "        pos_encoding = tf.where(i % 2 == 0, tf.sin(angle_rads), tf.cos(angle_rads))\n",
        "        self.pos_encoding = pos_encoding[tf.newaxis, ...]\n",
        "\n",
        "    def call(self, x):\n",
        "        seq_len = tf.shape(x)[1]\n",
        "        return x + self.pos_encoding[:, :seq_len, :]"
      ]
    },
    {
      "cell_type": "code",
      "execution_count": null,
      "metadata": {
        "id": "pZmzzfWvCkQP"
      },
      "outputs": [],
      "source": [
        "def TransformerEncoderClassifier(vocab_size, d_model, num_heads, d_ff, num_layers, num_classes, max_len):\n",
        "    inputs = layers.Input(shape=(None,))\n",
        "    x = layers.Embedding(vocab_size, d_model)(inputs)\n",
        "    x = PositionalEncoding(max_len, d_model)(x)\n",
        "\n",
        "    for _ in range(num_layers):\n",
        "        x = layers.MultiHeadAttention(num_heads, d_model // num_heads)(x, x)\n",
        "        x = layers.LayerNormalization()(x)\n",
        "        x_ff = layers.Dense(d_ff, activation='relu')(x)\n",
        "        x = layers.Dense(d_model)(x_ff) + x\n",
        "        x = layers.LayerNormalization()(x)\n",
        "\n",
        "    encoder_output = x\n",
        "    x = layers.GlobalAveragePooling1D()(x)\n",
        "    logits = layers.Dense(num_classes)(x)\n",
        "\n",
        "    return models.Model(inputs=inputs, outputs=[logits, encoder_output])"
      ]
    },
    {
      "cell_type": "code",
      "execution_count": 16,
      "metadata": {
        "id": "8ibjaCM78s1e"
      },
      "outputs": [],
      "source": [
        "def TransformerEncoderClassifier_1(vocab_size, d_model, num_heads, d_ff, num_layers, num_classes, max_len):\n",
        "    inputs = layers.Input(shape=(None,), name=\"input_tokens\")\n",
        "    x = layers.Embedding(vocab_size, d_model, name=\"token_embedding\")(inputs)\n",
        "    x = PositionalEncoding_1(max_len, d_model)(x)\n",
        "\n",
        "    for i in range(num_layers):\n",
        "        attn_output = layers.MultiHeadAttention(num_heads=num_heads, key_dim=d_model // num_heads, name=f\"mha_{i}\")(x, x)\n",
        "        x = layers.Add()([x, attn_output])\n",
        "        x = layers.LayerNormalization(name=f\"attn_norm_{i}\")(x)\n",
        "\n",
        "        ff_output = layers.Dense(d_ff, activation='relu', name=f\"ffn_{i}_1\")(x)\n",
        "        ff_output = layers.Dense(d_model, name=f\"ffn_{i}_2\")(ff_output)\n",
        "        x = layers.Add()([x, ff_output])\n",
        "        x = layers.LayerNormalization(name=f\"ffn_norm_{i}\")(x)\n",
        "\n",
        "    encoder_output = x\n",
        "    pooled_output = layers.GlobalAveragePooling1D(name=\"global_avg_pool\")(encoder_output)\n",
        "    logits = layers.Dense(num_classes, name=\"classifier_logits\")(pooled_output)\n",
        "\n",
        "    return models.Model(inputs=inputs, outputs=[logits, encoder_output], name=\"TransformerEncoderClassifier_1\")"
      ]
    },
    {
      "cell_type": "code",
      "execution_count": 18,
      "metadata": {
        "id": "Kzc3g4OmClXL"
      },
      "outputs": [],
      "source": [
        "import pickle\n",
        "\n",
        "def load_variable(pkl_variable):\n",
        "  # Open the file in binary mode\n",
        "  with open(pkl_variable, 'rb') as file:\n",
        "    myvar = pickle.load(file)\n",
        "  return myvar"
      ]
    },
    {
      "cell_type": "code",
      "execution_count": 19,
      "metadata": {
        "id": "8jSANKPdCtQi"
      },
      "outputs": [],
      "source": [
        "vocab = load_variable('/content/drive/MyDrive/NLP/vocab.pkl')"
      ]
    },
    {
      "cell_type": "code",
      "execution_count": 20,
      "metadata": {
        "id": "tcVO-INoDnyo"
      },
      "outputs": [],
      "source": [
        "def get_token_id(vocab, lemmatize_sentence, max_size):\n",
        "  token_id = []\n",
        "  # max_size = len(lemmatize_sentence)\n",
        "  for word in lemmatize_sentence:\n",
        "    if word in vocab.keys():\n",
        "      token_id.append(vocab[word])\n",
        "    else:\n",
        "      token_id.append(len(vocab))\n",
        "  while(len(token_id) < max_size):\n",
        "    token_id.append(len(vocab))\n",
        "  token_id = tf.constant([token_id])\n",
        "  return token_id"
      ]
    },
    {
      "cell_type": "code",
      "execution_count": null,
      "metadata": {
        "id": "oE_VhKvVEUU3"
      },
      "outputs": [],
      "source": [
        "token_id_1 = get_token_id(vocab, sentence_1, 45)\n",
        "token_id_2 = get_token_id(vocab, sentence_2, 105)"
      ]
    },
    {
      "cell_type": "code",
      "execution_count": 21,
      "metadata": {
        "id": "0XMo2PmREcGn"
      },
      "outputs": [],
      "source": [
        "def get_embeddings(vocab, token_id):\n",
        "    model = TransformerEncoderClassifier(vocab_size=2*len(vocab), d_model=256, num_heads=4, d_ff=128, num_layers=2, num_classes=2, max_len=5*token_id.shape[1])\n",
        "    embedding_model = tf.keras.Model(\n",
        "        inputs=model.input,\n",
        "        outputs=model.output[1]  # Only encoder output\n",
        "    )\n",
        "    embedding = embedding_model.predict(token_id)\n",
        "    return embedding"
      ]
    },
    {
      "cell_type": "code",
      "execution_count": 22,
      "metadata": {
        "id": "LH4_V_DZCgZQ"
      },
      "outputs": [],
      "source": [
        "model_1 = model = TransformerEncoderClassifier_1(\n",
        "        vocab_size=2000,\n",
        "        d_model=256,\n",
        "        num_heads=4,\n",
        "        d_ff=128,\n",
        "        num_layers=4,\n",
        "        num_classes=2,\n",
        "        max_len=5 * 45\n",
        "    )"
      ]
    },
    {
      "cell_type": "code",
      "execution_count": 23,
      "metadata": {
        "id": "NVcU_tbXCmpb"
      },
      "outputs": [],
      "source": [
        "model_2 = model = TransformerEncoderClassifier_1(\n",
        "        vocab_size=2000,\n",
        "        d_model=256,\n",
        "        num_heads=4,\n",
        "        d_ff=128,\n",
        "        num_layers=4,\n",
        "        num_classes=2,\n",
        "        max_len=5 * 105\n",
        "    )"
      ]
    },
    {
      "cell_type": "code",
      "execution_count": 24,
      "metadata": {
        "id": "kgva_8h09lfL"
      },
      "outputs": [],
      "source": [
        "def get_embeddings_1(vocab, token_id):\n",
        "    if token_id.shape[1] == 45:\n",
        "      model = model_1\n",
        "    else:\n",
        "      model = model_2\n",
        "    embedding_model = tf.keras.Model(\n",
        "        inputs=model.input,\n",
        "        outputs=model.get_layer(\"global_avg_pool\").output  # or encoder_output if you want full sequence\n",
        "    )\n",
        "    embedding = embedding_model.predict(token_id)\n",
        "    return embedding"
      ]
    },
    {
      "cell_type": "code",
      "execution_count": 57,
      "metadata": {
        "id": "izXb0bLuGT72"
      },
      "outputs": [],
      "source": [
        "def load_my_model():\n",
        "  model = tf.keras.models.load_model('/content/drive/MyDrive/NLP/NLP/model_10_v1.keras', safe_mode= 'False')\n",
        "  return model"
      ]
    },
    {
      "cell_type": "code",
      "execution_count": 58,
      "metadata": {
        "id": "3bbT-otuHxCo"
      },
      "outputs": [],
      "source": [
        "def stack_tensors(tensor_list):\n",
        "    stacked_tensor = tf.stack(tensor_list)\n",
        "    return stacked_tensor"
      ]
    },
    {
      "cell_type": "code",
      "execution_count": 59,
      "metadata": {
        "id": "-ObTfops_2K0"
      },
      "outputs": [],
      "source": [
        "def stack_tensors_1(emb, total_size, d_model_val):\n",
        "  emb = stack_tensors(emb)\n",
        "  emb = tf.reshape(emb, [total_size, d_model_val])\n",
        "  return emb"
      ]
    },
    {
      "cell_type": "code",
      "execution_count": 66,
      "metadata": {
        "id": "AFnOTjXfnGCn"
      },
      "outputs": [],
      "source": [
        "def get_score(resume_emb_stack_1, job_emb_stack_1, check):\n",
        "    model = load_my_model()\n",
        "    similarity = model.predict([resume_emb_stack_1, job_emb_stack_1])\n",
        "    return 1 - similarity"
      ]
    },
    {
      "cell_type": "code",
      "execution_count": 63,
      "metadata": {
        "id": "WQA7hc5ieWHO"
      },
      "outputs": [],
      "source": [
        "def extract_data(resume_data):\n",
        "  import re\n",
        "  pattern = r\"Technical Skills(.*?)Extracurricular Activities\"\n",
        "  matches = re.search(pattern, resume_data, re.DOTALL)\n",
        "\n",
        "  if matches:\n",
        "      technical_skills = matches.group(1).strip()\n",
        "      # print(\"### Technical Skills ###\")\n",
        "      # print(technical_skills)\n",
        "  else:\n",
        "      print(\"Technical Skills section not found.\")\n",
        "\n",
        "  skills_list = re.split(r'\\n(?=•)', technical_skills.strip())\n",
        "\n",
        "  cleaned_text = [re.sub(r'\\s+', ' ', item).replace('•', '').strip() for item in skills_list]\n",
        "\n",
        "  result_dict = {}\n",
        "  for item in cleaned_text:\n",
        "      key, value = item.split(':', 1)\n",
        "      result_dict[key.strip()] = value.strip()\n",
        "\n",
        "  print(result_dict)\n",
        "\n",
        "  final_text = \"Proficient in \" + result_dict['Programming Languages'] + \". Knowns Web Technologies which includes \" + result_dict[\"Web Technologies\"] + \". Familiar with \" + result_dict[\"Engineering Software\"]\n",
        "  return final_text"
      ]
    },
    {
      "cell_type": "code",
      "execution_count": 64,
      "metadata": {
        "id": "QScK7vczhAkK"
      },
      "outputs": [],
      "source": [
        "def similarity_score(sentence_1, sentence_2):\n",
        "\n",
        "  import tensorflow as tf\n",
        "  from tensorflow.keras import layers, models\n",
        "\n",
        "  check = sentence_2[-1]\n",
        "\n",
        "  sentence_1 = lemmatize_sentence(sentence_1)\n",
        "  sentence_2 = lemmatize_sentence(sentence_2)\n",
        "\n",
        "  token_id_1 = get_token_id(vocab, sentence_1, 45)\n",
        "  token_id_2 = get_token_id(vocab, sentence_2, 105)\n",
        "\n",
        "  emb_1 = get_embeddings_1(vocab, token_id_1)\n",
        "  emb_2 = get_embeddings_1(vocab, token_id_2)\n",
        "\n",
        "  resume_emb_stack_1 = stack_tensors_1(emb_1, len(emb_1), emb_1[0].shape[0])\n",
        "  job_emb_stack_1 = stack_tensors_1(emb_2, len(emb_2), emb_2[0].shape[0])\n",
        "\n",
        "  score = get_score(emb_1, emb_2, check)\n",
        "  return score"
      ]
    },
    {
      "cell_type": "code",
      "execution_count": 73,
      "metadata": {
        "colab": {
          "base_uri": "https://localhost:8080/",
          "height": 646
        },
        "id": "N37AZKnJeYm2",
        "outputId": "c43a4bae-bcca-4d45-ec77-0cf34707d460"
      },
      "outputs": [
        {
          "name": "stdout",
          "output_type": "stream",
          "text": [
            "It looks like you are running Gradio on a hosted a Jupyter notebook. For the Gradio app to work, sharing must be enabled. Automatically setting `share=True` (you can turn this off by setting `share=False` in `launch()` explicitly).\n",
            "\n",
            "Colab notebook detected. To show errors in colab notebook, set debug=True in launch()\n",
            "* Running on public URL: https://50796f8f213085d5d6.gradio.live\n",
            "\n",
            "This share link expires in 1 week. For free permanent hosting and GPU upgrades, run `gradio deploy` from the terminal in the working directory to deploy to Hugging Face Spaces (https://huggingface.co/spaces)\n"
          ]
        },
        {
          "data": {
            "text/html": [
              "<div><iframe src=\"https://50796f8f213085d5d6.gradio.live\" width=\"100%\" height=\"500\" allow=\"autoplay; camera; microphone; clipboard-read; clipboard-write;\" frameborder=\"0\" allowfullscreen></iframe></div>"
            ],
            "text/plain": [
              "<IPython.core.display.HTML object>"
            ]
          },
          "metadata": {},
          "output_type": "display_data"
        },
        {
          "data": {
            "text/plain": []
          },
          "execution_count": 73,
          "metadata": {},
          "output_type": "execute_result"
        }
      ],
      "source": [
        "import gradio as gr\n",
        "import fitz  # PyMuPDF\n",
        "\n",
        "# Function to read the PDF file using PyMuPDF\n",
        "def read_pdf(file):\n",
        "    try:\n",
        "        # Open the uploaded PDF file using PyMuPDF\n",
        "        doc = fitz.open(file.name)\n",
        "        resume_data = \"\"\n",
        "\n",
        "        # Extract resume_data from all pages in the PDF\n",
        "        for page_num in range(len(doc)):\n",
        "            page = doc.load_page(page_num)  # Load each page\n",
        "            resume_data += page.get_text()  # Extract resume_data from the page\n",
        "\n",
        "        sentence_1 = extract_data(resume_data)\n",
        "        sentence_2 = 'Requred a software developer who is proficient in C, Java, Python, JavaScript, PHP and related languages. Knowns Web Technologies which includes HTML, CSS, Django. Familiar with Visual Studio, GitHub, PyCharm, IntelliJ, MySQL, GNU 8085 Simulator.T'\n",
        "        # sentence_2 = 'As a Personal Trainer, you will design personalized fitness programs that help clients achieve their physical health goals. Your role involves motivating clients to push their limits, providing expert advice on exercise techniques, and offering nutritional guidance. You will work with individuals at different fitness levels, providing support and encouragement to help them improve their strength, endurance, and overall well-being. The role demands a passion for fitness, excellent interpersonal skills, and the ability to inspire others. You will also stay up-to-date with the latest trends in health and fitness to ensure that your training methods remain effective and innovative.F'\n",
        "\n",
        "        matching_score = similarity_score(sentence_1, sentence_2)\n",
        "        matching = 1 if matching_score[0][0] >= 0.5 else 0\n",
        "\n",
        "        return sentence_1, matching\n",
        "\n",
        "    except Exception as e:\n",
        "        return f\"Error reading PDF: {e}\"\n",
        "\n",
        "# Create a Gradio interface\n",
        "iface = gr.Interface(\n",
        "    fn=read_pdf,  # Function to process the uploaded PDF\n",
        "    inputs=gr.File(label=\"Upload a PDF File\"),  # File input for uploading PDF\n",
        "    outputs = [\n",
        "        gr.Textbox(label=\"Parsed Text\"),  # Display the extracted text\n",
        "        gr.Textbox(label=\"Similairty\")\n",
        "    ]\n",
        ")\n",
        "\n",
        "# Launch the Gradio app\n",
        "iface.launch()"
      ]
    }
  ],
  "metadata": {
    "colab": {
      "provenance": []
    },
    "kernelspec": {
      "display_name": "Python 3",
      "name": "python3"
    },
    "language_info": {
      "name": "python"
    }
  },
  "nbformat": 4,
  "nbformat_minor": 0
}
